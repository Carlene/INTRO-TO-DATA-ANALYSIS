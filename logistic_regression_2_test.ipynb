{
 "cells": [
  {
   "cell_type": "markdown",
   "metadata": {},
   "source": [
    "# Logistic Regression Continued"
   ]
  },
  {
   "cell_type": "code",
   "execution_count": 65,
   "metadata": {},
   "outputs": [],
   "source": [
    "import pandas as pd\n",
    "import numpy as np\n",
    "import seaborn as sns\n",
    "import statsmodels.formula.api as smf\n",
    "import sklearn.metrics\n",
    "from sklearn.metrics import confusion_matrix, accuracy_score\n",
    "from sklearn.model_selection import train_test_split"
   ]
  },
  {
   "cell_type": "code",
   "execution_count": 66,
   "metadata": {},
   "outputs": [],
   "source": [
    "#version 3\n",
    "def statsmodels_train_test_split(df, stratify=None, **kwargs):\n",
    "\n",
    "    if stratify is None:\n",
    "        y, X = df.iloc[:,0], df.drop(columns=df.columns[0])\n",
    "        X_train, X_test, y_train, y_test = train_test_split(X,y, **kwargs)\n",
    "    else:\n",
    "        y, X = stratify, df.drop(columns = stratify.name)\n",
    "        X_train, X_test, y_train, y_test = train_test_split(X,y,stratify=y, **kwargs)\n",
    "    \n",
    "    return pd.concat([X_train, y_train], axis=1), pd.concat([X_test, y_test], axis=1)"
   ]
  },
  {
   "cell_type": "code",
   "execution_count": 67,
   "metadata": {},
   "outputs": [],
   "source": [
    "penguins = pd.read_csv('DATA/penguins.csv')"
   ]
  },
  {
   "cell_type": "code",
   "execution_count": 68,
   "metadata": {},
   "outputs": [
    {
     "name": "stdout",
     "output_type": "stream",
     "text": [
      "<class 'pandas.core.frame.DataFrame'>\n",
      "RangeIndex: 344 entries, 0 to 343\n",
      "Data columns (total 8 columns):\n",
      " #   Column             Non-Null Count  Dtype  \n",
      "---  ------             --------------  -----  \n",
      " 0   Unnamed: 0         344 non-null    int64  \n",
      " 1   species            344 non-null    object \n",
      " 2   island             344 non-null    object \n",
      " 3   bill_length_mm     342 non-null    float64\n",
      " 4   bill_depth_mm      342 non-null    float64\n",
      " 5   flipper_length_mm  342 non-null    float64\n",
      " 6   body_mass_g        342 non-null    float64\n",
      " 7   sex                333 non-null    object \n",
      "dtypes: float64(4), int64(1), object(3)\n",
      "memory usage: 21.6+ KB\n"
     ]
    }
   ],
   "source": [
    "penguins.info()"
   ]
  },
  {
   "cell_type": "code",
   "execution_count": 69,
   "metadata": {},
   "outputs": [
    {
     "name": "stdout",
     "output_type": "stream",
     "text": [
      "<class 'pandas.core.frame.DataFrame'>\n",
      "RangeIndex: 344 entries, 0 to 343\n",
      "Data columns (total 7 columns):\n",
      " #   Column             Non-Null Count  Dtype  \n",
      "---  ------             --------------  -----  \n",
      " 0   species            344 non-null    object \n",
      " 1   island             344 non-null    object \n",
      " 2   bill_length_mm     342 non-null    float64\n",
      " 3   bill_depth_mm      342 non-null    float64\n",
      " 4   flipper_length_mm  342 non-null    float64\n",
      " 5   body_mass_g        342 non-null    float64\n",
      " 6   sex                333 non-null    object \n",
      "dtypes: float64(4), object(3)\n",
      "memory usage: 18.9+ KB\n"
     ]
    }
   ],
   "source": [
    "penguins = penguins.drop(columns=penguins.columns[0])\n",
    "penguins.info()"
   ]
  },
  {
   "cell_type": "code",
   "execution_count": 70,
   "metadata": {},
   "outputs": [
    {
     "data": {
      "text/html": [
       "<div>\n",
       "<style scoped>\n",
       "    .dataframe tbody tr th:only-of-type {\n",
       "        vertical-align: middle;\n",
       "    }\n",
       "\n",
       "    .dataframe tbody tr th {\n",
       "        vertical-align: top;\n",
       "    }\n",
       "\n",
       "    .dataframe thead th {\n",
       "        text-align: right;\n",
       "    }\n",
       "</style>\n",
       "<table border=\"1\" class=\"dataframe\">\n",
       "  <thead>\n",
       "    <tr style=\"text-align: right;\">\n",
       "      <th></th>\n",
       "      <th>bill_length_mm</th>\n",
       "      <th>bill_depth_mm</th>\n",
       "      <th>flipper_length_mm</th>\n",
       "      <th>body_mass_g</th>\n",
       "    </tr>\n",
       "  </thead>\n",
       "  <tbody>\n",
       "    <tr>\n",
       "      <th>count</th>\n",
       "      <td>342.000000</td>\n",
       "      <td>342.000000</td>\n",
       "      <td>342.000000</td>\n",
       "      <td>342.000000</td>\n",
       "    </tr>\n",
       "    <tr>\n",
       "      <th>mean</th>\n",
       "      <td>43.921930</td>\n",
       "      <td>17.151170</td>\n",
       "      <td>200.915205</td>\n",
       "      <td>4201.754386</td>\n",
       "    </tr>\n",
       "    <tr>\n",
       "      <th>std</th>\n",
       "      <td>5.459584</td>\n",
       "      <td>1.974793</td>\n",
       "      <td>14.061714</td>\n",
       "      <td>801.954536</td>\n",
       "    </tr>\n",
       "    <tr>\n",
       "      <th>min</th>\n",
       "      <td>32.100000</td>\n",
       "      <td>13.100000</td>\n",
       "      <td>172.000000</td>\n",
       "      <td>2700.000000</td>\n",
       "    </tr>\n",
       "    <tr>\n",
       "      <th>25%</th>\n",
       "      <td>39.225000</td>\n",
       "      <td>15.600000</td>\n",
       "      <td>190.000000</td>\n",
       "      <td>3550.000000</td>\n",
       "    </tr>\n",
       "    <tr>\n",
       "      <th>50%</th>\n",
       "      <td>44.450000</td>\n",
       "      <td>17.300000</td>\n",
       "      <td>197.000000</td>\n",
       "      <td>4050.000000</td>\n",
       "    </tr>\n",
       "    <tr>\n",
       "      <th>75%</th>\n",
       "      <td>48.500000</td>\n",
       "      <td>18.700000</td>\n",
       "      <td>213.000000</td>\n",
       "      <td>4750.000000</td>\n",
       "    </tr>\n",
       "    <tr>\n",
       "      <th>max</th>\n",
       "      <td>59.600000</td>\n",
       "      <td>21.500000</td>\n",
       "      <td>231.000000</td>\n",
       "      <td>6300.000000</td>\n",
       "    </tr>\n",
       "  </tbody>\n",
       "</table>\n",
       "</div>"
      ],
      "text/plain": [
       "       bill_length_mm  bill_depth_mm  flipper_length_mm  body_mass_g\n",
       "count      342.000000     342.000000         342.000000   342.000000\n",
       "mean        43.921930      17.151170         200.915205  4201.754386\n",
       "std          5.459584       1.974793          14.061714   801.954536\n",
       "min         32.100000      13.100000         172.000000  2700.000000\n",
       "25%         39.225000      15.600000         190.000000  3550.000000\n",
       "50%         44.450000      17.300000         197.000000  4050.000000\n",
       "75%         48.500000      18.700000         213.000000  4750.000000\n",
       "max         59.600000      21.500000         231.000000  6300.000000"
      ]
     },
     "execution_count": 70,
     "metadata": {},
     "output_type": "execute_result"
    }
   ],
   "source": [
    "penguins.describe()"
   ]
  },
  {
   "cell_type": "markdown",
   "metadata": {},
   "source": [
    "So, it looks like we have three categorical variables, all of type object:\n",
    "species, island, and sex"
   ]
  },
  {
   "cell_type": "code",
   "execution_count": null,
   "metadata": {},
   "outputs": [],
   "source": []
  },
  {
   "cell_type": "code",
   "execution_count": 71,
   "metadata": {},
   "outputs": [
    {
     "data": {
      "text/plain": [
       "<matplotlib.axes._subplots.AxesSubplot at 0x1a23520b10>"
      ]
     },
     "execution_count": 71,
     "metadata": {},
     "output_type": "execute_result"
    },
    {
     "data": {
      "image/png": "[encoded data removed]",
      "text/plain": [
       "<Figure size 432x288 with 1 Axes>"
      ]
     },
     "metadata": {
      "needs_background": "light"
     },
     "output_type": "display_data"
    }
   ],
   "source": [
    "\n",
    "sns.countplot(penguins['species'])"
   ]
  },
  {
   "cell_type": "code",
   "execution_count": 72,
   "metadata": {},
   "outputs": [
    {
     "data": {
      "text/plain": [
       "<matplotlib.axes._subplots.AxesSubplot at 0x1a234a3e90>"
      ]
     },
     "execution_count": 72,
     "metadata": {},
     "output_type": "execute_result"
    },
    {
     "data": {
      "image/png": "[encoded data removed]",
      "text/plain": [
       "<Figure size 432x288 with 1 Axes>"
      ]
     },
     "metadata": {
      "needs_background": "light"
     },
     "output_type": "display_data"
    }
   ],
   "source": [
    "sns.countplot(penguins['island'])"
   ]
  },
  {
   "cell_type": "code",
   "execution_count": 73,
   "metadata": {},
   "outputs": [
    {
     "data": {
      "text/plain": [
       "<matplotlib.axes._subplots.AxesSubplot at 0x1a23661090>"
      ]
     },
     "execution_count": 73,
     "metadata": {},
     "output_type": "execute_result"
    },
    {
     "data": {
      "image/png": "[encoded data removed]",
      "text/plain": [
       "<Figure size 432x288 with 1 Axes>"
      ]
     },
     "metadata": {
      "needs_background": "light"
     },
     "output_type": "display_data"
    }
   ],
   "source": [
    "sns.countplot(penguins['sex'])"
   ]
  },
  {
   "cell_type": "code",
   "execution_count": 74,
   "metadata": {},
   "outputs": [
    {
     "data": {
      "text/plain": [
       "<matplotlib.axes._subplots.AxesSubplot at 0x1a23731310>"
      ]
     },
     "execution_count": 74,
     "metadata": {},
     "output_type": "execute_result"
    },
    {
     "data": {
      "image/png": "[encoded data removed]",
      "text/plain": [
       "<Figure size 432x288 with 1 Axes>"
      ]
     },
     "metadata": {
      "needs_background": "light"
     },
     "output_type": "display_data"
    }
   ],
   "source": [
    "sns.boxplot( 'sex', 'body_mass_g', data=penguins)"
   ]
  },
  {
   "cell_type": "code",
   "execution_count": 75,
   "metadata": {},
   "outputs": [
    {
     "data": {
      "text/plain": [
       "<matplotlib.axes._subplots.AxesSubplot at 0x1a23822f10>"
      ]
     },
     "execution_count": 75,
     "metadata": {},
     "output_type": "execute_result"
    },
    {
     "data": {
      "image/png": "[encoded data removed]",
      "text/plain": [
       "<Figure size 432x288 with 1 Axes>"
      ]
     },
     "metadata": {
      "needs_background": "light"
     },
     "output_type": "display_data"
    }
   ],
   "source": [
    "sns.boxplot( 'sex', 'flipper_length_mm', data=penguins)"
   ]
  },
  {
   "cell_type": "code",
   "execution_count": 76,
   "metadata": {},
   "outputs": [
    {
     "data": {
      "text/plain": [
       "<matplotlib.axes._subplots.AxesSubplot at 0x1a2391fe50>"
      ]
     },
     "execution_count": 76,
     "metadata": {},
     "output_type": "execute_result"
    },
    {
     "data": {
      "image/png": "[encoded data removed]",
      "text/plain": [
       "<Figure size 432x288 with 1 Axes>"
      ]
     },
     "metadata": {
      "needs_background": "light"
     },
     "output_type": "display_data"
    }
   ],
   "source": [
    "sns.boxplot( 'island', 'flipper_length_mm', data=penguins)"
   ]
  },
  {
   "cell_type": "code",
   "execution_count": 77,
   "metadata": {},
   "outputs": [
    {
     "data": {
      "text/plain": [
       "<matplotlib.axes._subplots.AxesSubplot at 0x1a23a2e750>"
      ]
     },
     "execution_count": 77,
     "metadata": {},
     "output_type": "execute_result"
    },
    {
     "data": {
      "image/png": "[encoded data removed]",
      "text/plain": [
       "<Figure size 432x288 with 1 Axes>"
      ]
     },
     "metadata": {
      "needs_background": "light"
     },
     "output_type": "display_data"
    }
   ],
   "source": [
    "sns.boxplot( 'island', 'body_mass_g', data=penguins)"
   ]
  },
  {
   "cell_type": "code",
   "execution_count": null,
   "metadata": {},
   "outputs": [],
   "source": []
  },
  {
   "cell_type": "code",
   "execution_count": 78,
   "metadata": {},
   "outputs": [
    {
     "data": {
      "text/plain": [
       "<matplotlib.axes._subplots.AxesSubplot at 0x1a23b385d0>"
      ]
     },
     "execution_count": 78,
     "metadata": {},
     "output_type": "execute_result"
    },
    {
     "data": {
      "image/png": "[encoded data removed]",
      "text/plain": [
       "<Figure size 432x288 with 1 Axes>"
      ]
     },
     "metadata": {
      "needs_background": "light"
     },
     "output_type": "display_data"
    }
   ],
   "source": [
    "sns.boxplot( 'sex', 'body_mass_g', hue='island', data=penguins)"
   ]
  },
  {
   "cell_type": "code",
   "execution_count": null,
   "metadata": {},
   "outputs": [],
   "source": []
  },
  {
   "cell_type": "code",
   "execution_count": 79,
   "metadata": {},
   "outputs": [
    {
     "data": {
      "text/plain": [
       "<matplotlib.axes._subplots.AxesSubplot at 0x1a23c95750>"
      ]
     },
     "execution_count": 79,
     "metadata": {},
     "output_type": "execute_result"
    },
    {
     "data": {
      "image/png": "[encoded data removed]",
      "text/plain": [
       "<Figure size 432x288 with 1 Axes>"
      ]
     },
     "metadata": {
      "needs_background": "light"
     },
     "output_type": "display_data"
    }
   ],
   "source": [
    "sns.boxplot( 'sex', 'flipper_length_mm', hue='island', data=penguins)"
   ]
  },
  {
   "cell_type": "code",
   "execution_count": null,
   "metadata": {},
   "outputs": [],
   "source": []
  },
  {
   "cell_type": "code",
   "execution_count": 80,
   "metadata": {},
   "outputs": [
    {
     "data": {
      "text/plain": [
       "<matplotlib.axes._subplots.AxesSubplot at 0x1a23de3710>"
      ]
     },
     "execution_count": 80,
     "metadata": {},
     "output_type": "execute_result"
    },
    {
     "data": {
      "image/png": "[encoded data removed]",
      "text/plain": [
       "<Figure size 432x288 with 1 Axes>"
      ]
     },
     "metadata": {
      "needs_background": "light"
     },
     "output_type": "display_data"
    }
   ],
   "source": [
    "sns.boxplot( 'sex', 'flipper_length_mm', hue='species', data=penguins)"
   ]
  },
  {
   "cell_type": "code",
   "execution_count": null,
   "metadata": {},
   "outputs": [],
   "source": []
  },
  {
   "cell_type": "code",
   "execution_count": 81,
   "metadata": {},
   "outputs": [
    {
     "data": {
      "text/plain": [
       "<matplotlib.axes._subplots.AxesSubplot at 0x1a23f44810>"
      ]
     },
     "execution_count": 81,
     "metadata": {},
     "output_type": "execute_result"
    },
    {
     "data": {
      "image/png": "[encoded data removed]",
      "text/plain": [
       "<Figure size 432x288 with 1 Axes>"
      ]
     },
     "metadata": {
      "needs_background": "light"
     },
     "output_type": "display_data"
    }
   ],
   "source": [
    "sns.boxplot( 'sex', 'body_mass_g', hue='species', data=penguins)"
   ]
  },
  {
   "cell_type": "code",
   "execution_count": null,
   "metadata": {},
   "outputs": [],
   "source": []
  },
  {
   "cell_type": "code",
   "execution_count": 82,
   "metadata": {},
   "outputs": [
    {
     "data": {
      "text/plain": [
       "<matplotlib.axes._subplots.AxesSubplot at 0x1a23f44510>"
      ]
     },
     "execution_count": 82,
     "metadata": {},
     "output_type": "execute_result"
    },
    {
     "data": {
      "image/png": "[encoded data removed]",
      "text/plain": [
       "<Figure size 432x288 with 1 Axes>"
      ]
     },
     "metadata": {
      "needs_background": "light"
     },
     "output_type": "display_data"
    }
   ],
   "source": [
    "sns.distplot(penguins['body_mass_g'])"
   ]
  },
  {
   "cell_type": "code",
   "execution_count": 83,
   "metadata": {},
   "outputs": [
    {
     "data": {
      "text/plain": [
       "<matplotlib.axes._subplots.AxesSubplot at 0x1a235112d0>"
      ]
     },
     "execution_count": 83,
     "metadata": {},
     "output_type": "execute_result"
    },
    {
     "data": {
      "image/png": "[encoded data removed]",
      "text/plain": [
       "<Figure size 432x288 with 1 Axes>"
      ]
     },
     "metadata": {
      "needs_background": "light"
     },
     "output_type": "display_data"
    }
   ],
   "source": [
    "sns.distplot(penguins['flipper_length_mm'])"
   ]
  },
  {
   "cell_type": "code",
   "execution_count": 84,
   "metadata": {},
   "outputs": [
    {
     "data": {
      "text/plain": [
       "<matplotlib.axes._subplots.AxesSubplot at 0x1a23a22fd0>"
      ]
     },
     "execution_count": 84,
     "metadata": {},
     "output_type": "execute_result"
    },
    {
     "data": {
      "image/png": "[encoded data removed]",
      "text/plain": [
       "<Figure size 432x288 with 1 Axes>"
      ]
     },
     "metadata": {
      "needs_background": "light"
     },
     "output_type": "display_data"
    }
   ],
   "source": [
    "sns.distplot(penguins['body_mass_g'])"
   ]
  },
  {
   "cell_type": "markdown",
   "metadata": {},
   "source": [
    "## So there is a lot of interesting variations in the penguin 'species' among our three categoricals!\n",
    "However, to use the smf.logit function, we need BINARY variable"
   ]
  },
  {
   "cell_type": "markdown",
   "metadata": {},
   "source": [
    "### We need to decide exactly WHAT we want to model.\n",
    "\n",
    "Suggestions??"
   ]
  },
  {
   "cell_type": "code",
   "execution_count": 86,
   "metadata": {},
   "outputs": [
    {
     "data": {
      "text/plain": [
       "Index(['species', 'island', 'bill_length_mm', 'bill_depth_mm',\n",
       "       'flipper_length_mm', 'body_mass_g', 'sex'],\n",
       "      dtype='object')"
      ]
     },
     "execution_count": 86,
     "metadata": {},
     "output_type": "execute_result"
    }
   ],
   "source": [
    "penguins.columns"
   ]
  },
  {
   "cell_type": "code",
   "execution_count": 87,
   "metadata": {},
   "outputs": [],
   "source": [
    "train, test = statsmodels_train_test_split(penguins)"
   ]
  },
  {
   "cell_type": "code",
   "execution_count": 88,
   "metadata": {},
   "outputs": [
    {
     "data": {
      "text/plain": [
       "Adelie       152\n",
       "Gentoo       124\n",
       "Chinstrap     68\n",
       "Name: species, dtype: int64"
      ]
     },
     "execution_count": 88,
     "metadata": {},
     "output_type": "execute_result"
    }
   ],
   "source": [
    "penguins['species'].value_counts()"
   ]
  },
  {
   "cell_type": "code",
   "execution_count": null,
   "metadata": {},
   "outputs": [],
   "source": []
  },
  {
   "cell_type": "code",
   "execution_count": null,
   "metadata": {},
   "outputs": [],
   "source": []
  },
  {
   "cell_type": "markdown",
   "metadata": {},
   "source": [
    "Note that these value_counts are not evenly distributed.."
   ]
  },
  {
   "cell_type": "markdown",
   "metadata": {},
   "source": [
    "### Now, let's throw in the whole kitchen sink to try to model the species!\n",
    "\n",
    "### Recall there are THREE types of species"
   ]
  },
  {
   "cell_type": "code",
   "execution_count": 89,
   "metadata": {},
   "outputs": [
    {
     "name": "stdout",
     "output_type": "stream",
     "text": [
      "<class 'pandas.core.frame.DataFrame'>\n",
      "Int64Index: 258 entries, 96 to 109\n",
      "Data columns (total 7 columns):\n",
      " #   Column             Non-Null Count  Dtype  \n",
      "---  ------             --------------  -----  \n",
      " 0   island             258 non-null    object \n",
      " 1   bill_length_mm     257 non-null    float64\n",
      " 2   bill_depth_mm      257 non-null    float64\n",
      " 3   flipper_length_mm  257 non-null    float64\n",
      " 4   body_mass_g        257 non-null    float64\n",
      " 5   sex                249 non-null    object \n",
      " 6   species            258 non-null    object \n",
      "dtypes: float64(4), object(3)\n",
      "memory usage: 16.1+ KB\n"
     ]
    }
   ],
   "source": [
    "train.info()"
   ]
  },
  {
   "cell_type": "code",
   "execution_count": 90,
   "metadata": {},
   "outputs": [
    {
     "data": {
      "text/plain": [
       "Adelie       118\n",
       "Gentoo        89\n",
       "Chinstrap     51\n",
       "Name: species, dtype: int64"
      ]
     },
     "execution_count": 90,
     "metadata": {},
     "output_type": "execute_result"
    }
   ],
   "source": [
    "train['species'].value_counts()"
   ]
  },
  {
   "cell_type": "code",
   "execution_count": 91,
   "metadata": {},
   "outputs": [],
   "source": [
    "species_names = ['Adelie', 'Gentoo','Chinstrap' ]"
   ]
  },
  {
   "cell_type": "code",
   "execution_count": 92,
   "metadata": {},
   "outputs": [],
   "source": [
    "## unfortunately, statsmodels cannot deal with objects on the LHS. It likes numbers there! Sigh. "
   ]
  },
  {
   "cell_type": "code",
   "execution_count": 93,
   "metadata": {},
   "outputs": [
    {
     "data": {
      "text/plain": [
       "LabelEncoder()"
      ]
     },
     "execution_count": 93,
     "metadata": {},
     "output_type": "execute_result"
    }
   ],
   "source": [
    "from sklearn.preprocessing import LabelEncoder\n",
    "le = LabelEncoder().fit(train['species'])\n",
    "le"
   ]
  },
  {
   "cell_type": "code",
   "execution_count": 94,
   "metadata": {},
   "outputs": [
    {
     "data": {
      "text/plain": [
       "array([0, 2, 2, 0, 0, 1, 0, 2, 1, 2, 2, 0, 0, 0, 0, 0, 1, 2, 2, 2, 0, 0,\n",
       "       2, 0, 2, 0, 0, 0, 0, 0, 0, 2, 0, 0, 0, 2, 2, 2, 0, 0, 2, 0, 2, 0,\n",
       "       2, 2, 2, 0, 2, 2, 1, 0, 2, 0, 0, 2, 1, 0, 1, 2, 1, 0, 2, 2, 2, 2,\n",
       "       2, 2, 0, 1, 0, 0, 0, 1, 0, 0, 2, 0, 0, 0, 0, 2, 2, 2, 1, 1, 1, 0,\n",
       "       2, 2, 2, 0, 0, 0, 0, 2, 0, 0, 0, 2, 0, 2, 1, 1, 2, 0, 0, 2, 2, 2,\n",
       "       2, 1, 2, 1, 1, 0, 2, 0, 2, 0, 0, 2, 1, 1, 1, 0, 2, 0, 2, 0, 1, 1,\n",
       "       1, 0, 0, 1, 2, 1, 0, 0, 2, 2, 0, 0, 0, 1, 0, 2, 1, 0, 0, 0, 0, 2,\n",
       "       1, 0, 0, 2, 1, 0, 0, 0, 0, 2, 2, 0, 1, 2, 0, 0, 0, 2, 2, 0, 0, 2,\n",
       "       0, 0, 1, 0, 0, 0, 2, 2, 0, 2, 2, 2, 2, 1, 0, 0, 0, 1, 0, 0, 2, 2,\n",
       "       0, 2, 0, 1, 2, 0, 2, 1, 2, 0, 1, 0, 2, 0, 1, 0, 1, 0, 1, 2, 0, 0,\n",
       "       0, 1, 0, 0, 0, 2, 0, 2, 2, 0, 2, 2, 2, 2, 0, 1, 2, 0, 1, 0, 0, 2,\n",
       "       2, 1, 0, 1, 1, 1, 1, 1, 1, 2, 1, 1, 2, 0, 0, 0])"
      ]
     },
     "execution_count": 94,
     "metadata": {},
     "output_type": "execute_result"
    }
   ],
   "source": [
    "le.transform(train['species'])"
   ]
  },
  {
   "cell_type": "code",
   "execution_count": 95,
   "metadata": {},
   "outputs": [
    {
     "name": "stdout",
     "output_type": "stream",
     "text": [
      "<class 'pandas.core.frame.DataFrame'>\n",
      "Int64Index: 258 entries, 96 to 109\n",
      "Data columns (total 8 columns):\n",
      " #   Column             Non-Null Count  Dtype  \n",
      "---  ------             --------------  -----  \n",
      " 0   island             258 non-null    object \n",
      " 1   bill_length_mm     257 non-null    float64\n",
      " 2   bill_depth_mm      257 non-null    float64\n",
      " 3   flipper_length_mm  257 non-null    float64\n",
      " 4   body_mass_g        257 non-null    float64\n",
      " 5   sex                249 non-null    object \n",
      " 6   species            258 non-null    object \n",
      " 7   species_code       258 non-null    int64  \n",
      "dtypes: float64(4), int64(1), object(3)\n",
      "memory usage: 18.1+ KB\n"
     ]
    }
   ],
   "source": [
    "# let's add a new column called species code that we can add to our dataframe\n",
    "train.loc[:,'species_code'] = le.transform(train['species'])\n",
    "train.info()"
   ]
  },
  {
   "cell_type": "code",
   "execution_count": 96,
   "metadata": {},
   "outputs": [
    {
     "data": {
      "text/html": [
       "<div>\n",
       "<style scoped>\n",
       "    .dataframe tbody tr th:only-of-type {\n",
       "        vertical-align: middle;\n",
       "    }\n",
       "\n",
       "    .dataframe tbody tr th {\n",
       "        vertical-align: top;\n",
       "    }\n",
       "\n",
       "    .dataframe thead th {\n",
       "        text-align: right;\n",
       "    }\n",
       "</style>\n",
       "<table border=\"1\" class=\"dataframe\">\n",
       "  <thead>\n",
       "    <tr style=\"text-align: right;\">\n",
       "      <th></th>\n",
       "      <th>island</th>\n",
       "      <th>bill_length_mm</th>\n",
       "      <th>bill_depth_mm</th>\n",
       "      <th>flipper_length_mm</th>\n",
       "      <th>body_mass_g</th>\n",
       "      <th>sex</th>\n",
       "      <th>species</th>\n",
       "      <th>species_code</th>\n",
       "    </tr>\n",
       "  </thead>\n",
       "  <tbody>\n",
       "    <tr>\n",
       "      <th>96</th>\n",
       "      <td>Dream</td>\n",
       "      <td>38.1</td>\n",
       "      <td>18.6</td>\n",
       "      <td>190.0</td>\n",
       "      <td>3700.0</td>\n",
       "      <td>FEMALE</td>\n",
       "      <td>Adelie</td>\n",
       "      <td>0</td>\n",
       "    </tr>\n",
       "    <tr>\n",
       "      <th>270</th>\n",
       "      <td>Biscoe</td>\n",
       "      <td>46.6</td>\n",
       "      <td>14.2</td>\n",
       "      <td>210.0</td>\n",
       "      <td>4850.0</td>\n",
       "      <td>FEMALE</td>\n",
       "      <td>Gentoo</td>\n",
       "      <td>2</td>\n",
       "    </tr>\n",
       "    <tr>\n",
       "      <th>269</th>\n",
       "      <td>Biscoe</td>\n",
       "      <td>45.2</td>\n",
       "      <td>15.8</td>\n",
       "      <td>215.0</td>\n",
       "      <td>5300.0</td>\n",
       "      <td>MALE</td>\n",
       "      <td>Gentoo</td>\n",
       "      <td>2</td>\n",
       "    </tr>\n",
       "    <tr>\n",
       "      <th>53</th>\n",
       "      <td>Biscoe</td>\n",
       "      <td>42.0</td>\n",
       "      <td>19.5</td>\n",
       "      <td>200.0</td>\n",
       "      <td>4050.0</td>\n",
       "      <td>MALE</td>\n",
       "      <td>Adelie</td>\n",
       "      <td>0</td>\n",
       "    </tr>\n",
       "    <tr>\n",
       "      <th>99</th>\n",
       "      <td>Dream</td>\n",
       "      <td>43.2</td>\n",
       "      <td>18.5</td>\n",
       "      <td>192.0</td>\n",
       "      <td>4100.0</td>\n",
       "      <td>MALE</td>\n",
       "      <td>Adelie</td>\n",
       "      <td>0</td>\n",
       "    </tr>\n",
       "    <tr>\n",
       "      <th>167</th>\n",
       "      <td>Dream</td>\n",
       "      <td>50.5</td>\n",
       "      <td>19.6</td>\n",
       "      <td>201.0</td>\n",
       "      <td>4050.0</td>\n",
       "      <td>MALE</td>\n",
       "      <td>Chinstrap</td>\n",
       "      <td>1</td>\n",
       "    </tr>\n",
       "    <tr>\n",
       "      <th>133</th>\n",
       "      <td>Dream</td>\n",
       "      <td>37.5</td>\n",
       "      <td>18.5</td>\n",
       "      <td>199.0</td>\n",
       "      <td>4475.0</td>\n",
       "      <td>MALE</td>\n",
       "      <td>Adelie</td>\n",
       "      <td>0</td>\n",
       "    </tr>\n",
       "    <tr>\n",
       "      <th>249</th>\n",
       "      <td>Biscoe</td>\n",
       "      <td>50.0</td>\n",
       "      <td>15.3</td>\n",
       "      <td>220.0</td>\n",
       "      <td>5550.0</td>\n",
       "      <td>MALE</td>\n",
       "      <td>Gentoo</td>\n",
       "      <td>2</td>\n",
       "    </tr>\n",
       "    <tr>\n",
       "      <th>187</th>\n",
       "      <td>Dream</td>\n",
       "      <td>47.5</td>\n",
       "      <td>16.8</td>\n",
       "      <td>199.0</td>\n",
       "      <td>3900.0</td>\n",
       "      <td>FEMALE</td>\n",
       "      <td>Chinstrap</td>\n",
       "      <td>1</td>\n",
       "    </tr>\n",
       "    <tr>\n",
       "      <th>285</th>\n",
       "      <td>Biscoe</td>\n",
       "      <td>49.8</td>\n",
       "      <td>16.8</td>\n",
       "      <td>230.0</td>\n",
       "      <td>5700.0</td>\n",
       "      <td>MALE</td>\n",
       "      <td>Gentoo</td>\n",
       "      <td>2</td>\n",
       "    </tr>\n",
       "  </tbody>\n",
       "</table>\n",
       "</div>"
      ],
      "text/plain": [
       "     island  bill_length_mm  bill_depth_mm  flipper_length_mm  body_mass_g  \\\n",
       "96    Dream            38.1           18.6              190.0       3700.0   \n",
       "270  Biscoe            46.6           14.2              210.0       4850.0   \n",
       "269  Biscoe            45.2           15.8              215.0       5300.0   \n",
       "53   Biscoe            42.0           19.5              200.0       4050.0   \n",
       "99    Dream            43.2           18.5              192.0       4100.0   \n",
       "167   Dream            50.5           19.6              201.0       4050.0   \n",
       "133   Dream            37.5           18.5              199.0       4475.0   \n",
       "249  Biscoe            50.0           15.3              220.0       5550.0   \n",
       "187   Dream            47.5           16.8              199.0       3900.0   \n",
       "285  Biscoe            49.8           16.8              230.0       5700.0   \n",
       "\n",
       "        sex    species  species_code  \n",
       "96   FEMALE     Adelie             0  \n",
       "270  FEMALE     Gentoo             2  \n",
       "269    MALE     Gentoo             2  \n",
       "53     MALE     Adelie             0  \n",
       "99     MALE     Adelie             0  \n",
       "167    MALE  Chinstrap             1  \n",
       "133    MALE     Adelie             0  \n",
       "249    MALE     Gentoo             2  \n",
       "187  FEMALE  Chinstrap             1  \n",
       "285    MALE     Gentoo             2  "
      ]
     },
     "execution_count": 96,
     "metadata": {},
     "output_type": "execute_result"
    }
   ],
   "source": [
    "train.head(10)"
   ]
  },
  {
   "cell_type": "code",
   "execution_count": 32,
   "metadata": {},
   "outputs": [],
   "source": [
    "# let's try to normalize the columns by subtracting the mean and dividing by the standard deviation\n",
    "\n",
    "bill_length_mm_mean = train['bill_length_mm'].mean()\n",
    "bill_length_mm_std = train['bill_length_mm'].std()\n",
    "bill_depth_mm_mean = train['bill_depth_mm'].mean()\n",
    "bill_depth_mm_std = train['bill_depth_mm'].std()\n",
    "flipper_length_mm_mean = train['flipper_length_mm'].mean()\n",
    "flipper_length_mm_std = train['flipper_length_mm'].std()\n",
    "body_mass_g_mean = train['body_mass_g'].mean()\n",
    "body_mass_g_std = train['body_mass_g'].std()"
   ]
  },
  {
   "cell_type": "code",
   "execution_count": 33,
   "metadata": {},
   "outputs": [
    {
     "data": {
      "text/plain": [
       "323    0.902736\n",
       "216   -0.131475\n",
       "227    0.459502\n",
       "293    0.422566\n",
       "213    0.477971\n",
       "         ...   \n",
       "174   -0.186879\n",
       "316    0.958140\n",
       "3           NaN\n",
       "49    -0.353091\n",
       "315    1.216692\n",
       "Name: bill_length_mm, Length: 86, dtype: float64"
      ]
     },
     "execution_count": 33,
     "metadata": {},
     "output_type": "execute_result"
    }
   ],
   "source": [
    "train['bill_length_mm'].apply(lambda x: (x - bill_length_mm_mean)/bill_length_mm_std)"
   ]
  },
  {
   "cell_type": "code",
   "execution_count": 34,
   "metadata": {
    "jupyter": {
     "source_hidden": true
    }
   },
   "outputs": [],
   "source": [
    "train.loc[:,'bill_length_standardized'] = train['bill_length_mm'].apply(lambda x: (x - bill_length_mm_mean)/bill_length_mm_std)"
   ]
  },
  {
   "cell_type": "code",
   "execution_count": 35,
   "metadata": {
    "jupyter": {
     "source_hidden": true
    }
   },
   "outputs": [],
   "source": [
    "train.loc[:,'bill_depth_standardized'] = train['bill_depth_mm'].apply(lambda x: (x - bill_depth_mm_mean)/bill_depth_mm_std)"
   ]
  },
  {
   "cell_type": "code",
   "execution_count": 36,
   "metadata": {
    "jupyter": {
     "source_hidden": true
    }
   },
   "outputs": [],
   "source": [
    "train.loc[:,'flipper_length_standardized'] = train['flipper_length_mm'].apply(lambda x: (x - flipper_length_mm_mean)/flipper_length_mm_std)"
   ]
  },
  {
   "cell_type": "code",
   "execution_count": 37,
   "metadata": {
    "jupyter": {
     "source_hidden": true
    }
   },
   "outputs": [],
   "source": [
    "train.loc[:,'body_mass_g_standardized'] = train['body_mass_g'].apply(lambda x: (x - body_mass_g_mean)/body_mass_g_std)"
   ]
  },
  {
   "cell_type": "code",
   "execution_count": 97,
   "metadata": {},
   "outputs": [
    {
     "name": "stdout",
     "output_type": "stream",
     "text": [
      "<class 'pandas.core.frame.DataFrame'>\n",
      "Int64Index: 258 entries, 96 to 109\n",
      "Data columns (total 8 columns):\n",
      " #   Column             Non-Null Count  Dtype  \n",
      "---  ------             --------------  -----  \n",
      " 0   island             258 non-null    object \n",
      " 1   bill_length_mm     257 non-null    float64\n",
      " 2   bill_depth_mm      257 non-null    float64\n",
      " 3   flipper_length_mm  257 non-null    float64\n",
      " 4   body_mass_g        257 non-null    float64\n",
      " 5   sex                249 non-null    object \n",
      " 6   species            258 non-null    object \n",
      " 7   species_code       258 non-null    int64  \n",
      "dtypes: float64(4), int64(1), object(3)\n",
      "memory usage: 18.1+ KB\n"
     ]
    }
   ],
   "source": [
    "train.info()"
   ]
  },
  {
   "cell_type": "code",
   "execution_count": 107,
   "metadata": {},
   "outputs": [
    {
     "data": {
      "text/plain": [
       "Index(['species', 'island', 'bill_length_mm', 'bill_depth_mm',\n",
       "       'flipper_length_mm', 'body_mass_g', 'sex'],\n",
       "      dtype='object')"
      ]
     },
     "execution_count": 107,
     "metadata": {},
     "output_type": "execute_result"
    }
   ],
   "source": [
    "penguins.columns"
   ]
  },
  {
   "cell_type": "code",
   "execution_count": 39,
   "metadata": {
    "collapsed": true,
    "jupyter": {
     "outputs_hidden": true,
     "source_hidden": true
    }
   },
   "outputs": [
    {
     "data": {
      "text/html": [
       "<div>\n",
       "<style scoped>\n",
       "    .dataframe tbody tr th:only-of-type {\n",
       "        vertical-align: middle;\n",
       "    }\n",
       "\n",
       "    .dataframe tbody tr th {\n",
       "        vertical-align: top;\n",
       "    }\n",
       "\n",
       "    .dataframe thead th {\n",
       "        text-align: right;\n",
       "    }\n",
       "</style>\n",
       "<table border=\"1\" class=\"dataframe\">\n",
       "  <thead>\n",
       "    <tr style=\"text-align: right;\">\n",
       "      <th></th>\n",
       "      <th>bill_length_mm</th>\n",
       "      <th>bill_depth_mm</th>\n",
       "      <th>flipper_length_mm</th>\n",
       "      <th>body_mass_g</th>\n",
       "      <th>species_code</th>\n",
       "      <th>bill_length_standardized</th>\n",
       "      <th>bill_depth_standardized</th>\n",
       "      <th>flipper_length_standardized</th>\n",
       "      <th>body_mass_g_standardized</th>\n",
       "    </tr>\n",
       "  </thead>\n",
       "  <tbody>\n",
       "    <tr>\n",
       "      <th>count</th>\n",
       "      <td>84.000000</td>\n",
       "      <td>84.000000</td>\n",
       "      <td>84.000000</td>\n",
       "      <td>84.000000</td>\n",
       "      <td>86.000000</td>\n",
       "      <td>8.400000e+01</td>\n",
       "      <td>8.400000e+01</td>\n",
       "      <td>8.400000e+01</td>\n",
       "      <td>8.400000e+01</td>\n",
       "    </tr>\n",
       "    <tr>\n",
       "      <th>mean</th>\n",
       "      <td>44.211905</td>\n",
       "      <td>16.961905</td>\n",
       "      <td>202.380952</td>\n",
       "      <td>4277.976190</td>\n",
       "      <td>1.000000</td>\n",
       "      <td>-1.321694e-15</td>\n",
       "      <td>-7.930164e-18</td>\n",
       "      <td>8.458842e-17</td>\n",
       "      <td>-4.414458e-16</td>\n",
       "    </tr>\n",
       "    <tr>\n",
       "      <th>std</th>\n",
       "      <td>5.414759</td>\n",
       "      <td>2.063854</td>\n",
       "      <td>14.709971</td>\n",
       "      <td>829.105382</td>\n",
       "      <td>0.907485</td>\n",
       "      <td>1.000000e+00</td>\n",
       "      <td>1.000000e+00</td>\n",
       "      <td>1.000000e+00</td>\n",
       "      <td>1.000000e+00</td>\n",
       "    </tr>\n",
       "    <tr>\n",
       "      <th>min</th>\n",
       "      <td>33.500000</td>\n",
       "      <td>13.100000</td>\n",
       "      <td>172.000000</td>\n",
       "      <td>2850.000000</td>\n",
       "      <td>0.000000</td>\n",
       "      <td>-1.978279e+00</td>\n",
       "      <td>-1.871210e+00</td>\n",
       "      <td>-2.065331e+00</td>\n",
       "      <td>-1.722310e+00</td>\n",
       "    </tr>\n",
       "    <tr>\n",
       "      <th>25%</th>\n",
       "      <td>39.600000</td>\n",
       "      <td>15.150000</td>\n",
       "      <td>190.000000</td>\n",
       "      <td>3600.000000</td>\n",
       "      <td>0.000000</td>\n",
       "      <td>-8.517285e-01</td>\n",
       "      <td>-8.779228e-01</td>\n",
       "      <td>-8.416708e-01</td>\n",
       "      <td>-8.177202e-01</td>\n",
       "    </tr>\n",
       "    <tr>\n",
       "      <th>50%</th>\n",
       "      <td>44.750000</td>\n",
       "      <td>17.050000</td>\n",
       "      <td>198.000000</td>\n",
       "      <td>4200.000000</td>\n",
       "      <td>1.000000</td>\n",
       "      <td>9.937566e-02</td>\n",
       "      <td>4.268481e-02</td>\n",
       "      <td>-2.978220e-01</td>\n",
       "      <td>-9.404859e-02</td>\n",
       "    </tr>\n",
       "    <tr>\n",
       "      <th>75%</th>\n",
       "      <td>48.425000</td>\n",
       "      <td>18.600000</td>\n",
       "      <td>215.000000</td>\n",
       "      <td>4943.750000</td>\n",
       "      <td>2.000000</td>\n",
       "      <td>7.780762e-01</td>\n",
       "      <td>7.937068e-01</td>\n",
       "      <td>8.578567e-01</td>\n",
       "      <td>8.030026e-01</td>\n",
       "    </tr>\n",
       "    <tr>\n",
       "      <th>max</th>\n",
       "      <td>59.600000</td>\n",
       "      <td>21.500000</td>\n",
       "      <td>231.000000</td>\n",
       "      <td>6300.000000</td>\n",
       "      <td>2.000000</td>\n",
       "      <td>2.841880e+00</td>\n",
       "      <td>2.198845e+00</td>\n",
       "      <td>1.945554e+00</td>\n",
       "      <td>2.438802e+00</td>\n",
       "    </tr>\n",
       "  </tbody>\n",
       "</table>\n",
       "</div>"
      ],
      "text/plain": [
       "       bill_length_mm  bill_depth_mm  flipper_length_mm  body_mass_g  \\\n",
       "count       84.000000      84.000000          84.000000    84.000000   \n",
       "mean        44.211905      16.961905         202.380952  4277.976190   \n",
       "std          5.414759       2.063854          14.709971   829.105382   \n",
       "min         33.500000      13.100000         172.000000  2850.000000   \n",
       "25%         39.600000      15.150000         190.000000  3600.000000   \n",
       "50%         44.750000      17.050000         198.000000  4200.000000   \n",
       "75%         48.425000      18.600000         215.000000  4943.750000   \n",
       "max         59.600000      21.500000         231.000000  6300.000000   \n",
       "\n",
       "       species_code  bill_length_standardized  bill_depth_standardized  \\\n",
       "count     86.000000              8.400000e+01             8.400000e+01   \n",
       "mean       1.000000             -1.321694e-15            -7.930164e-18   \n",
       "std        0.907485              1.000000e+00             1.000000e+00   \n",
       "min        0.000000             -1.978279e+00            -1.871210e+00   \n",
       "25%        0.000000             -8.517285e-01            -8.779228e-01   \n",
       "50%        1.000000              9.937566e-02             4.268481e-02   \n",
       "75%        2.000000              7.780762e-01             7.937068e-01   \n",
       "max        2.000000              2.841880e+00             2.198845e+00   \n",
       "\n",
       "       flipper_length_standardized  body_mass_g_standardized  \n",
       "count                 8.400000e+01              8.400000e+01  \n",
       "mean                  8.458842e-17             -4.414458e-16  \n",
       "std                   1.000000e+00              1.000000e+00  \n",
       "min                  -2.065331e+00             -1.722310e+00  \n",
       "25%                  -8.416708e-01             -8.177202e-01  \n",
       "50%                  -2.978220e-01             -9.404859e-02  \n",
       "75%                   8.578567e-01              8.030026e-01  \n",
       "max                   1.945554e+00              2.438802e+00  "
      ]
     },
     "execution_count": 39,
     "metadata": {},
     "output_type": "execute_result"
    }
   ],
   "source": [
    "train.describe()"
   ]
  },
  {
   "cell_type": "code",
   "execution_count": 100,
   "metadata": {},
   "outputs": [],
   "source": [
    "# Now we can properly use statsmodels\n"
   ]
  },
  {
   "cell_type": "code",
   "execution_count": 112,
   "metadata": {},
   "outputs": [],
   "source": [
    "formula = 'species_code ~ bill_length_mm + bill_depth_mm + flipper_length_mm  + C(sex) + C(island)'\n"
   ]
  },
  {
   "cell_type": "code",
   "execution_count": 115,
   "metadata": {},
   "outputs": [
    {
     "name": "stdout",
     "output_type": "stream",
     "text": [
      "Warning: Maximum number of iterations has been exceeded.\n",
      "         Current function value: 0.000059\n",
      "         Iterations: 35\n",
      "         Function evaluations: 52\n",
      "         Gradient evaluations: 52\n",
      "         Hessian evaluations: 35\n"
     ]
    },
    {
     "name": "stderr",
     "output_type": "stream",
     "text": [
      "/Users/seanreed1/miniconda3/lib/python3.7/site-packages/statsmodels/base/model.py:568: ConvergenceWarning: Maximum Likelihood optimization failed to converge. Check mle_retvals\n",
      "  \"Check mle_retvals\", ConvergenceWarning)\n"
     ]
    },
    {
     "data": {
      "text/html": [
       "<table class=\"simpletable\">\n",
       "<caption>MNLogit Regression Results</caption>\n",
       "<tr>\n",
       "  <th>Dep. Variable:</th>     <td>species_code</td>   <th>  No. Observations:  </th>   <td>   249</td>  \n",
       "</tr>\n",
       "<tr>\n",
       "  <th>Model:</th>                <td>MNLogit</td>     <th>  Df Residuals:      </th>   <td>   235</td>  \n",
       "</tr>\n",
       "<tr>\n",
       "  <th>Method:</th>                 <td>MLE</td>       <th>  Df Model:          </th>   <td>    12</td>  \n",
       "</tr>\n",
       "<tr>\n",
       "  <th>Date:</th>            <td>Wed, 09 Sep 2020</td> <th>  Pseudo R-squ.:     </th>   <td>0.9999</td>  \n",
       "</tr>\n",
       "<tr>\n",
       "  <th>Time:</th>                <td>20:10:41</td>     <th>  Log-Likelihood:    </th>  <td>-0.014761</td>\n",
       "</tr>\n",
       "<tr>\n",
       "  <th>converged:</th>             <td>False</td>      <th>  LL-Null:           </th>  <td> -261.78</td> \n",
       "</tr>\n",
       "<tr>\n",
       "  <th>Covariance Type:</th>     <td>nonrobust</td>    <th>  LLR p-value:       </th> <td>2.172e-104</td>\n",
       "</tr>\n",
       "</table>\n",
       "<table class=\"simpletable\">\n",
       "<tr>\n",
       "      <th>species_code=1</th>        <th>coef</th>     <th>std err</th>      <th>z</th>      <th>P>|z|</th>  <th>[0.025</th>    <th>0.975]</th>  \n",
       "</tr>\n",
       "<tr>\n",
       "  <th>Intercept</th>              <td>  -51.7595</td> <td>  751.063</td> <td>   -0.069</td> <td> 0.945</td> <td>-1523.815</td> <td> 1420.296</td>\n",
       "</tr>\n",
       "<tr>\n",
       "  <th>C(sex)[T.MALE]</th>         <td>  -19.1182</td> <td>  480.014</td> <td>   -0.040</td> <td> 0.968</td> <td> -959.929</td> <td>  921.693</td>\n",
       "</tr>\n",
       "<tr>\n",
       "  <th>C(island)[T.Dream]</th>     <td>  -13.6280</td> <td>  324.082</td> <td>   -0.042</td> <td> 0.966</td> <td> -648.818</td> <td>  621.562</td>\n",
       "</tr>\n",
       "<tr>\n",
       "  <th>C(island)[T.Torgersen]</th> <td>  -20.8565</td> <td>  536.376</td> <td>   -0.039</td> <td> 0.969</td> <td>-1072.135</td> <td> 1030.422</td>\n",
       "</tr>\n",
       "<tr>\n",
       "  <th>bill_length_mm</th>         <td>   12.7385</td> <td>  171.175</td> <td>    0.074</td> <td> 0.941</td> <td> -322.758</td> <td>  348.235</td>\n",
       "</tr>\n",
       "<tr>\n",
       "  <th>bill_depth_mm</th>          <td>  -22.4473</td> <td>  332.895</td> <td>   -0.067</td> <td> 0.946</td> <td> -674.910</td> <td>  630.016</td>\n",
       "</tr>\n",
       "<tr>\n",
       "  <th>flipper_length_mm</th>      <td>   -0.3814</td> <td>    9.202</td> <td>   -0.041</td> <td> 0.967</td> <td>  -18.416</td> <td>   17.654</td>\n",
       "</tr>\n",
       "<tr>\n",
       "      <th>species_code=2</th>        <th>coef</th>     <th>std err</th>      <th>z</th>      <th>P>|z|</th>  <th>[0.025</th>    <th>0.975]</th>  \n",
       "</tr>\n",
       "<tr>\n",
       "  <th>Intercept</th>              <td>   -1.3446</td> <td> 3190.973</td> <td>   -0.000</td> <td> 1.000</td> <td>-6255.537</td> <td> 6252.848</td>\n",
       "</tr>\n",
       "<tr>\n",
       "  <th>C(sex)[T.MALE]</th>         <td>   -2.2449</td> <td> 1377.599</td> <td>   -0.002</td> <td> 0.999</td> <td>-2702.289</td> <td> 2697.800</td>\n",
       "</tr>\n",
       "<tr>\n",
       "  <th>C(island)[T.Dream]</th>     <td>   -5.2807</td> <td> 2608.256</td> <td>   -0.002</td> <td> 0.998</td> <td>-5117.368</td> <td> 5106.807</td>\n",
       "</tr>\n",
       "<tr>\n",
       "  <th>C(island)[T.Torgersen]</th> <td>   -5.7595</td> <td> 1935.554</td> <td>   -0.003</td> <td> 0.998</td> <td>-3799.375</td> <td> 3787.856</td>\n",
       "</tr>\n",
       "<tr>\n",
       "  <th>bill_length_mm</th>         <td>   11.7491</td> <td>  190.200</td> <td>    0.062</td> <td> 0.951</td> <td> -361.035</td> <td>  384.533</td>\n",
       "</tr>\n",
       "<tr>\n",
       "  <th>bill_depth_mm</th>          <td>  -33.9431</td> <td> 1001.120</td> <td>   -0.034</td> <td> 0.973</td> <td>-1996.101</td> <td> 1928.215</td>\n",
       "</tr>\n",
       "<tr>\n",
       "  <th>flipper_length_mm</th>      <td>    0.4755</td> <td>   77.388</td> <td>    0.006</td> <td> 0.995</td> <td> -151.203</td> <td>  152.154</td>\n",
       "</tr>\n",
       "</table>"
      ],
      "text/plain": [
       "<class 'statsmodels.iolib.summary.Summary'>\n",
       "\"\"\"\n",
       "                          MNLogit Regression Results                          \n",
       "==============================================================================\n",
       "Dep. Variable:           species_code   No. Observations:                  249\n",
       "Model:                        MNLogit   Df Residuals:                      235\n",
       "Method:                           MLE   Df Model:                           12\n",
       "Date:                Wed, 09 Sep 2020   Pseudo R-squ.:                  0.9999\n",
       "Time:                        20:10:41   Log-Likelihood:              -0.014761\n",
       "converged:                      False   LL-Null:                       -261.78\n",
       "Covariance Type:            nonrobust   LLR p-value:                2.172e-104\n",
       "==========================================================================================\n",
       "        species_code=1       coef    std err          z      P>|z|      [0.025      0.975]\n",
       "------------------------------------------------------------------------------------------\n",
       "Intercept                -51.7595    751.063     -0.069      0.945   -1523.815    1420.296\n",
       "C(sex)[T.MALE]           -19.1182    480.014     -0.040      0.968    -959.929     921.693\n",
       "C(island)[T.Dream]       -13.6280    324.082     -0.042      0.966    -648.818     621.562\n",
       "C(island)[T.Torgersen]   -20.8565    536.376     -0.039      0.969   -1072.135    1030.422\n",
       "bill_length_mm            12.7385    171.175      0.074      0.941    -322.758     348.235\n",
       "bill_depth_mm            -22.4473    332.895     -0.067      0.946    -674.910     630.016\n",
       "flipper_length_mm         -0.3814      9.202     -0.041      0.967     -18.416      17.654\n",
       "------------------------------------------------------------------------------------------\n",
       "        species_code=2       coef    std err          z      P>|z|      [0.025      0.975]\n",
       "------------------------------------------------------------------------------------------\n",
       "Intercept                 -1.3446   3190.973     -0.000      1.000   -6255.537    6252.848\n",
       "C(sex)[T.MALE]            -2.2449   1377.599     -0.002      0.999   -2702.289    2697.800\n",
       "C(island)[T.Dream]        -5.2807   2608.256     -0.002      0.998   -5117.368    5106.807\n",
       "C(island)[T.Torgersen]    -5.7595   1935.554     -0.003      0.998   -3799.375    3787.856\n",
       "bill_length_mm            11.7491    190.200      0.062      0.951    -361.035     384.533\n",
       "bill_depth_mm            -33.9431   1001.120     -0.034      0.973   -1996.101    1928.215\n",
       "flipper_length_mm          0.4755     77.388      0.006      0.995    -151.203     152.154\n",
       "==========================================================================================\n",
       "\"\"\""
      ]
     },
     "execution_count": 115,
     "metadata": {},
     "output_type": "execute_result"
    }
   ],
   "source": [
    "# We use smf.mnlogit because species has more than two choices!!!!!\n",
    "fitted_model = smf.mnlogit(formula=formula, data=train).fit(method='ncg')\n",
    "\n",
    "\n",
    "fitted_model.summary() "
   ]
  },
  {
   "cell_type": "code",
   "execution_count": null,
   "metadata": {},
   "outputs": [],
   "source": []
  },
  {
   "cell_type": "code",
   "execution_count": null,
   "metadata": {},
   "outputs": [],
   "source": [
    "# We use smf.mnlogit because species has more than two choices!!!!!\n",
    "fitted_model = smf.mnlogit(formula=formula, data=train).fit(maxiter=100)\n",
    "\n",
    "\n",
    "fitted_model.summary() "
   ]
  },
  {
   "cell_type": "code",
   "execution_count": null,
   "metadata": {},
   "outputs": [],
   "source": []
  },
  {
   "cell_type": "code",
   "execution_count": null,
   "metadata": {},
   "outputs": [],
   "source": []
  },
  {
   "cell_type": "code",
   "execution_count": null,
   "metadata": {},
   "outputs": [],
   "source": []
  },
  {
   "cell_type": "code",
   "execution_count": null,
   "metadata": {},
   "outputs": [],
   "source": []
  },
  {
   "cell_type": "code",
   "execution_count": null,
   "metadata": {},
   "outputs": [],
   "source": []
  },
  {
   "cell_type": "code",
   "execution_count": null,
   "metadata": {},
   "outputs": [],
   "source": []
  },
  {
   "cell_type": "code",
   "execution_count": null,
   "metadata": {},
   "outputs": [],
   "source": [
    "# It's best practices to define whatever functions you might need at the top of your notebook"
   ]
  },
  {
   "cell_type": "code",
   "execution_count": null,
   "metadata": {},
   "outputs": [],
   "source": [
    "#version 3\n",
    "def statsmodels_train_test_split(df, stratify=None, **kwargs):\n",
    "\n",
    "    if stratify is None:\n",
    "        y, X = df.iloc[:,0], df.drop(columns=df.columns[0])\n",
    "        X_train, X_test, y_train, y_test = train_test_split(X,y, **kwargs)\n",
    "    else:\n",
    "        y, X = stratify, df.drop(columns = stratify.name)\n",
    "        X_train, X_test, y_train, y_test = train_test_split(X,y,stratify=y, **kwargs)\n",
    "    \n",
    "    return pd.concat([X_train, y_train], axis=1), pd.concat([X_test, y_test], axis=1)\n"
   ]
  },
  {
   "cell_type": "code",
   "execution_count": null,
   "metadata": {},
   "outputs": [],
   "source": [
    "# statsmodels_train_test_split directly uses the train_test_split function from sklearn.\n",
    "# You can pass the same parameters to statsmodels_train_test_split that you can pass to sklearn's train_test_split!\n",
    "# So, what parameters can you pass to sklearn's 'train_test_split anyway??\n",
    "\n",
    "train_test_split??  ## this is going to give a lot of output, but please focus on the Parameters"
   ]
  },
  {
   "cell_type": "code",
   "execution_count": null,
   "metadata": {},
   "outputs": [],
   "source": [
    "'''\n",
    "These are the MOST IMPORTANT ARGUMENTS OF the sklearn train_test_split function (and mine as well)\n",
    "\n",
    "train_test_split(*arrays, test_size=0.25 ,random_state=NONE , stratify=None)\n",
    "'''"
   ]
  },
  {
   "cell_type": "code",
   "execution_count": null,
   "metadata": {},
   "outputs": [],
   "source": [
    "'''\n",
    "Parameters\n",
    "    ----------\n",
    "*arrays: \n",
    "        sequence of indexables with same length / shape[0]\n",
    "        Allowed inputs are lists, numpy arrays, scipy-sparse\n",
    "        matrices or pandas dataframes.\n",
    "\n",
    "**options (valid keyword arguments):\n",
    "    test_size : float or int, default=None\n",
    "        If float, should be between 0.0 and 1.0 and represent the proportion\n",
    "        of the dataset to include in the test split. If int, represents the\n",
    "        absolute number of test samples. If None, the value is set to the\n",
    "        complement of the train size. If ``train_size`` is also None, it will\n",
    "        be set to 0.25.\n",
    "\n",
    "    train_size : float or int, default=None\n",
    "        If float, should be between 0.0 and 1.0 and represent the\n",
    "        proportion of the dataset to include in the train split. If\n",
    "        int, represents the absolute number of train samples. If None,\n",
    "        the value is automatically set to the complement of the test size.\n",
    "\n",
    "    random_state : int or RandomState instance, default=None\n",
    "        Controls the shuffling applied to the data before applying the split.\n",
    "        Pass an int for reproducible output across multiple function calls.\n",
    "        See :term:`Glossary <random_state>`.\n",
    "\n",
    "\n",
    "    shuffle : bool, default=True\n",
    "        Whether or not to shuffle the data before splitting. If shuffle=False\n",
    "        then stratify must be None.\n",
    "\n",
    "    stratify : array-like, default=None\n",
    "        If not None, data is split in a stratified fashion, using this as\n",
    "        the class labels.\n",
    "\n",
    "'''"
   ]
  },
  {
   "cell_type": "markdown",
   "metadata": {},
   "source": [
    "#### What does *test_size* do?"
   ]
  },
  {
   "cell_type": "code",
   "execution_count": null,
   "metadata": {},
   "outputs": [],
   "source": []
  },
  {
   "cell_type": "markdown",
   "metadata": {},
   "source": [
    "#### What does *random_state* do?"
   ]
  },
  {
   "cell_type": "code",
   "execution_count": null,
   "metadata": {},
   "outputs": [],
   "source": []
  },
  {
   "cell_type": "markdown",
   "metadata": {},
   "source": [
    "#### What does *stratify* do? We'll talk about that below. "
   ]
  },
  {
   "cell_type": "code",
   "execution_count": null,
   "metadata": {},
   "outputs": [],
   "source": []
  },
  {
   "cell_type": "markdown",
   "metadata": {},
   "source": [
    "## IMPORTANT: **ALWAYS** use **stratify** when you do train_test_splits for logistic regression!!!"
   ]
  },
  {
   "cell_type": "markdown",
   "metadata": {},
   "source": [
    "## To do a logistic regression model, you use the statsmodel *logit* function in the exact same way that you used the statsmodel *ols* function."
   ]
  },
  {
   "cell_type": "code",
   "execution_count": null,
   "metadata": {},
   "outputs": [],
   "source": []
  },
  {
   "cell_type": "code",
   "execution_count": null,
   "metadata": {},
   "outputs": [],
   "source": []
  },
  {
   "cell_type": "markdown",
   "metadata": {},
   "source": [
    "### The return of true positive, false positive, true negative, false negative! Work out which number is which!\n",
    "\n",
    "true negative =\n",
    "\n",
    "true positive = \n",
    "\n",
    "false positive =\n",
    "\n",
    "false negative =\n",
    "\n",
    "### Note: pred_table[i,j] refers to the number of times “i” was observed and the model predicted “j”. "
   ]
  },
  {
   "cell_type": "code",
   "execution_count": null,
   "metadata": {},
   "outputs": [],
   "source": []
  },
  {
   "cell_type": "code",
   "execution_count": null,
   "metadata": {},
   "outputs": [],
   "source": [
    "'''Calculate the confusion matrix for the test set\n",
    " Notes\n",
    "        -----\n",
    "        [i,j] refers to the number of times \"i\" was observed and\n",
    "        the model predicted \"j\". Correct predictions are along the diagonal.\n",
    "'''"
   ]
  },
  {
   "cell_type": "code",
   "execution_count": null,
   "metadata": {},
   "outputs": [],
   "source": []
  },
  {
   "cell_type": "code",
   "execution_count": null,
   "metadata": {},
   "outputs": [],
   "source": [
    "confusion_matrix(test['admit'], y_prediction_test)"
   ]
  },
  {
   "cell_type": "code",
   "execution_count": null,
   "metadata": {},
   "outputs": [],
   "source": [
    "TP = 8\n",
    "TN = 63\n",
    "FP = 2\n",
    "FN = 27\n"
   ]
  },
  {
   "cell_type": "code",
   "execution_count": null,
   "metadata": {},
   "outputs": [],
   "source": []
  }
 ],
 "metadata": {
  "kernelspec": {
   "display_name": "Python 3",
   "language": "python",
   "name": "python3"
  },
  "language_info": {
   "codemirror_mode": {
    "name": "ipython",
    "version": 3
   },
   "file_extension": ".py",
   "mimetype": "text/x-python",
   "name": "python",
   "nbconvert_exporter": "python",
   "pygments_lexer": "ipython3",
   "version": "3.7.7"
  }
 },
 "nbformat": 4,
 "nbformat_minor": 4
}
