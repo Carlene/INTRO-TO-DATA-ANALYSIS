{
 "cells": [
  {
   "cell_type": "markdown",
   "id": "8d8efee9",
   "metadata": {},
   "source": [
    "Load the boston housing dataset from sklearn.datasets in a variable called `data`"
   ]
  },
  {
   "cell_type": "markdown",
   "id": "688824cf",
   "metadata": {},
   "source": [
    "A: print the data description"
   ]
  },
  {
   "cell_type": "markdown",
   "id": "3463aace",
   "metadata": {},
   "source": [
    "B: save the data.feature_names in a variable called predictors"
   ]
  },
  {
   "cell_type": "markdown",
   "id": "57951908",
   "metadata": {},
   "source": [
    "C: make a dataframe with data.data and columns=predictors"
   ]
  },
  {
   "cell_type": "markdown",
   "id": "a8dd5014",
   "metadata": {},
   "source": [
    "## Using your dataframe:"
   ]
  },
  {
   "cell_type": "markdown",
   "id": "528c9ea8",
   "metadata": {},
   "source": [
    "D: make plots of the predictors. Are any of the predictors categorical?"
   ]
  },
  {
   "cell_type": "markdown",
   "id": "85843482",
   "metadata": {},
   "source": [
    "E: calculate the correlation matrix of the predictors\n",
    "Make a heatmap using sns.heatmap so you can see which predictor variables are the most correlated to each other."
   ]
  },
  {
   "cell_type": "markdown",
   "id": "8a9b293a",
   "metadata": {},
   "source": [
    "F: Add a new column called 'MEDV' to your dataframe. set it equal to data.target"
   ]
  },
  {
   "cell_type": "markdown",
   "id": "bd80cc9f",
   "metadata": {},
   "source": [
    "G: What does the target 'MEDV' represent? Is it a categorical or continuous variable?"
   ]
  },
  {
   "cell_type": "markdown",
   "id": "a2a3ce60",
   "metadata": {},
   "source": [
    "H: Make three different linear regression models using statsmodels.formula.api.ols\n",
    "- One should use the full list of predictors\n",
    "- The other two should use some subset of the full list predictors. You should decide which ones using the results of the full model and/or possibly the correlation heatmap to guide you."
   ]
  },
  {
   "cell_type": "markdown",
   "id": "78705c74",
   "metadata": {},
   "source": [
    "I: Make a train/test split of the data using sklearn.model_selection.train_test_split"
   ]
  },
  {
   "cell_type": "markdown",
   "id": "ee3862b3",
   "metadata": {},
   "source": [
    "J: Using the same three model formulas you used the first time, train three models using **only** on the training data, "
   ]
  },
  {
   "cell_type": "markdown",
   "id": "75d4d736",
   "metadata": {},
   "source": [
    "K: Using the sklearn.metrics module, compute mean_squared_error and r2_score for the **test split** data for each model.\n"
   ]
  },
  {
   "cell_type": "code",
   "execution_count": null,
   "id": "cea32665",
   "metadata": {},
   "outputs": [],
   "source": [
    "L:Compare and contrast the models trained on the full dataset vs the smaller `train` dataset"
   ]
  }
 ],
 "metadata": {
  "kernelspec": {
   "display_name": "Python 3",
   "language": "python",
   "name": "python3"
  },
  "language_info": {
   "codemirror_mode": {
    "name": "ipython",
    "version": 3
   },
   "file_extension": ".py",
   "mimetype": "text/x-python",
   "name": "python",
   "nbconvert_exporter": "python",
   "pygments_lexer": "ipython3",
   "version": "3.9.2"
  }
 },
 "nbformat": 4,
 "nbformat_minor": 5
}
