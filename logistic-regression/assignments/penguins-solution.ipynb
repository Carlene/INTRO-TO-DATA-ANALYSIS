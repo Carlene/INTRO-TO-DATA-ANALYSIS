{
 "cells": [
  {
   "cell_type": "markdown",
   "metadata": {},
   "source": [
    "# Logistic Regression Assignment Solution - Penguins"
   ]
  },
  {
   "cell_type": "code",
   "execution_count": null,
   "metadata": {},
   "outputs": [],
   "source": [
    "import pandas as pd\n",
    "import numpy as np\n",
    "import os\n",
    "import seaborn as sns\n",
    "sns.set_theme(style=\"ticks\")\n",
    "\n",
    "import matplotlib.pyplot as plt\n",
    "import statsmodels.formula.api as smf\n",
    "\n",
    "import warnings\n",
    "warnings.simplefilter('ignore')"
   ]
  },
  {
   "cell_type": "code",
   "execution_count": null,
   "metadata": {},
   "outputs": [],
   "source": [
    "penguins = sns.load_dataset('penguins')\n",
    "penguins"
   ]
  },
  {
   "cell_type": "code",
   "execution_count": null,
   "metadata": {},
   "outputs": [],
   "source": []
  },
  {
   "cell_type": "code",
   "execution_count": null,
   "metadata": {},
   "outputs": [],
   "source": [
    "penguins.info()"
   ]
  },
  {
   "cell_type": "code",
   "execution_count": null,
   "metadata": {},
   "outputs": [],
   "source": []
  },
  {
   "cell_type": "markdown",
   "metadata": {},
   "source": [
    "### Can see the data has \n",
    "- Three categorical variables of type object: species, island, and sex\n",
    "- Four continuous variabls of type float: bill_length_mm, bill_depth_mm, flipper_length_mm, body_mass_g\n",
    "\n",
    "There are a few nulls there. Let's just drop the nulls."
   ]
  },
  {
   "cell_type": "code",
   "execution_count": null,
   "metadata": {},
   "outputs": [],
   "source": [
    "penguins = penguins.dropna()\n",
    "penguins.info()"
   ]
  },
  {
   "cell_type": "markdown",
   "metadata": {},
   "source": [
    "### Draw some plots to investigate the data "
   ]
  },
  {
   "cell_type": "code",
   "execution_count": null,
   "metadata": {},
   "outputs": [],
   "source": [
    "sns.countplot(penguins['species']); #countplot is for getting counts on categorical categories"
   ]
  },
  {
   "cell_type": "code",
   "execution_count": null,
   "metadata": {},
   "outputs": [],
   "source": [
    "# Note: not all species are on all islands\n",
    "sns.countplot(x='island', hue='species', palette='Set2', data=penguins); #palette changes the color scheme"
   ]
  },
  {
   "cell_type": "code",
   "execution_count": null,
   "metadata": {},
   "outputs": [],
   "source": [
    "sns.countplot(x='island', hue='sex', data=penguins); #hue gives a way to differentiate via color on a second categorical category"
   ]
  },
  {
   "cell_type": "code",
   "execution_count": null,
   "metadata": {},
   "outputs": [],
   "source": [
    "# We will use this groupby to create a graph of sex by species and by island\n",
    "penguins.groupby(['sex', 'species', 'island']).size().reset_index()"
   ]
  },
  {
   "cell_type": "code",
   "execution_count": null,
   "metadata": {},
   "outputs": [],
   "source": [
    "sex = penguins.groupby(['sex', 'species', 'island']).size().reset_index().pivot(columns=['sex'], index=['island', 'species'], values=0)\n",
    "sex"
   ]
  },
  {
   "cell_type": "code",
   "execution_count": null,
   "metadata": {},
   "outputs": [],
   "source": [
    "# male and female peguin numbers are mostly balanced, except a few less female GENTOO penguins on Biscoe\n",
    "#note we have used the pd.DataFrame.plot.barh() method here to plot the horizontal bars shown. There are many accceptable alternatives.\n",
    "sex.plot.barh(figsize=(10,8)); "
   ]
  },
  {
   "cell_type": "code",
   "execution_count": null,
   "metadata": {},
   "outputs": [],
   "source": []
  },
  {
   "cell_type": "code",
   "execution_count": null,
   "metadata": {},
   "outputs": [],
   "source": [
    "# The Gentoos are the heaviest species. They are only found on Biscoe Island.\n",
    "_ , ax = plt.subplots(1,1,figsize=(12,8)) \n",
    "sns.boxplot(x='island', y='body_mass_g', hue='species', ax=ax, data=penguins);"
   ]
  },
  {
   "cell_type": "markdown",
   "metadata": {},
   "source": [
    "### Now let's investigate the continuous data further"
   ]
  },
  {
   "cell_type": "code",
   "execution_count": null,
   "metadata": {},
   "outputs": [],
   "source": [
    "penguins.describe()"
   ]
  },
  {
   "cell_type": "code",
   "execution_count": null,
   "metadata": {},
   "outputs": [],
   "source": [
    "sns.boxplot( 'sex', 'flipper_length_mm', data=penguins);"
   ]
  },
  {
   "cell_type": "code",
   "execution_count": null,
   "metadata": {},
   "outputs": [],
   "source": [
    "sns.boxplot( 'island', 'flipper_length_mm', hue='sex',data=penguins);"
   ]
  },
  {
   "cell_type": "code",
   "execution_count": null,
   "metadata": {},
   "outputs": [],
   "source": [
    "sns.boxplot( 'sex', 'flipper_length_mm', hue='species', data=penguins);"
   ]
  },
  {
   "cell_type": "code",
   "execution_count": null,
   "metadata": {},
   "outputs": [],
   "source": [
    "sns.boxplot( 'sex', 'body_mass_g', hue='island', data=penguins);"
   ]
  },
  {
   "cell_type": "code",
   "execution_count": null,
   "metadata": {},
   "outputs": [],
   "source": [
    "sns.boxplot( 'sex', 'body_mass_g', hue='species', data=penguins);"
   ]
  },
  {
   "cell_type": "code",
   "execution_count": null,
   "metadata": {},
   "outputs": [],
   "source": []
  },
  {
   "cell_type": "markdown",
   "metadata": {},
   "source": [
    "We have three islands, and three species. \n",
    "However, our logistic regression model `smf.logit` only works on BINARY variables.\n",
    "So, we need to decide exactly what we want to model.\n",
    "Since sex is the only binary variable in this data, we'll use it in our model."
   ]
  },
  {
   "cell_type": "code",
   "execution_count": null,
   "metadata": {},
   "outputs": [],
   "source": [
    "print(penguins['sex'].value_counts()) #sex is coded as an object aka str type"
   ]
  },
  {
   "cell_type": "code",
   "execution_count": null,
   "metadata": {},
   "outputs": [],
   "source": [
    "formula_1 = 'sex ~ C(species) + C(island) + bill_length_mm + bill_depth_mm + flipper_length_mm + body_mass_g'"
   ]
  },
  {
   "cell_type": "code",
   "execution_count": null,
   "metadata": {},
   "outputs": [],
   "source": [
    "model_1 = smf.logit(formula=formula_1, data=penguins).fit() #this fails with a ValueError Exception\n",
    "model_1.summary()"
   ]
  },
  {
   "cell_type": "markdown",
   "metadata": {},
   "source": [
    "Statsmodels cannot deal with objects on the LHS. It only likes numbers there.\n",
    "```\n",
    "ValueError: endog has evaluated to an array with multiple columns that has shape (333, 2). This occurs when the variable converted to endog is non-numeric (e.g., bool or str)\n",
    "```\n",
    "So we need to create a new column to code sex as 0 or 1\n",
    "\n",
    "Because we expect the males to be bigger on average, will code Male = 1 and Female = 0 (Try it the other way and see what changes!)"
   ]
  },
  {
   "cell_type": "code",
   "execution_count": null,
   "metadata": {},
   "outputs": [],
   "source": [
    "penguins['male'] = np.where(penguins['sex']=='Male', 1,0)\n",
    "penguins"
   ]
  },
  {
   "cell_type": "code",
   "execution_count": null,
   "metadata": {},
   "outputs": [],
   "source": [
    "# Rewrite our model using penguins['male'] as the target\n",
    "\n",
    "formula_2 = 'male ~ C(species) + C(island) + bill_length_mm + bill_depth_mm + flipper_length_mm + body_mass_g'\n",
    "model_2 = smf.logit(formula=formula_2, data=penguins).fit()\n",
    "\n",
    "model_2.summary()"
   ]
  },
  {
   "cell_type": "code",
   "execution_count": null,
   "metadata": {},
   "outputs": [],
   "source": []
  },
  {
   "cell_type": "markdown",
   "metadata": {},
   "source": [
    "We see that flipper_length_mm is not significant (p value = 0.581) given all the other measurement data in the above model. \n",
    "So let's drop flipper_length_mm and make a new model"
   ]
  },
  {
   "cell_type": "code",
   "execution_count": null,
   "metadata": {},
   "outputs": [],
   "source": [
    "formula_3 = 'male ~ C(species) + C(island) + bill_length_mm + bill_depth_mm + body_mass_g'\n",
    "model_3 = smf.logit(formula=formula_3, data=penguins).fit()\n",
    "model_3.summary()"
   ]
  },
  {
   "cell_type": "markdown",
   "metadata": {},
   "source": [
    "We also see that **neither** of the coefficients of `island` is significant (p=0.662 and p=0.610). \n",
    "\n",
    "In this data, once we know the species, the island is not redundant for predicting sex. So let's drop `island` as well.\n",
    "\n",
    "Aside: If even one coefficient of a categorical variable is significant, we should keep it in the model."
   ]
  },
  {
   "cell_type": "code",
   "execution_count": null,
   "metadata": {},
   "outputs": [],
   "source": [
    "formula_4 = 'male ~ C(species) + bill_length_mm + bill_depth_mm + body_mass_g'\n",
    "model_4 = smf.logit(formula=formula_4, data=penguins).fit()\n",
    "model_4.summary()"
   ]
  },
  {
   "cell_type": "markdown",
   "metadata": {},
   "source": [
    "So, since all coefficients are now significant, we're done.\n",
    "Let's use model_2, model_3, and model_4 for prediction metrics like our confusion_matrix, precision_score, and recall_score"
   ]
  },
  {
   "cell_type": "code",
   "execution_count": null,
   "metadata": {},
   "outputs": [],
   "source": [
    "# these are all the predicted probability of male for each penguin for each model\n",
    "for model in [model_2, model_3, model_4]:\n",
    "    print(model.predict(penguins))"
   ]
  },
  {
   "cell_type": "markdown",
   "metadata": {},
   "source": [
    "Let's say that if the prediction probability > 0.5, the model predicts male"
   ]
  },
  {
   "cell_type": "code",
   "execution_count": null,
   "metadata": {},
   "outputs": [],
   "source": [
    "# compute predictions for model 2\n",
    "y_prediction_2 = np.where(model_2.predict(penguins) >= 0.5,1,0)\n",
    "y_prediction_2"
   ]
  },
  {
   "cell_type": "code",
   "execution_count": null,
   "metadata": {},
   "outputs": [],
   "source": [
    "# Do the same for model_3 and model_4\n",
    "y_prediction_3 = np.where(model_3.predict(penguins) >= 0.5,1,0)\n",
    "y_prediction_4 = np.where(model_4.predict(penguins) >= 0.5,1,0)"
   ]
  },
  {
   "cell_type": "code",
   "execution_count": null,
   "metadata": {},
   "outputs": [],
   "source": []
  },
  {
   "cell_type": "code",
   "execution_count": null,
   "metadata": {},
   "outputs": [],
   "source": [
    "from sklearn.metrics import confusion_matrix, precision_score, recall_score"
   ]
  },
  {
   "cell_type": "code",
   "execution_count": null,
   "metadata": {},
   "outputs": [],
   "source": [
    "# Now, let's compute the confusion matrices for each model\n",
    "\n",
    "confusion_matrix_2 = confusion_matrix(penguins['male'], y_prediction_2 )\n",
    "confusion_matrix_3 = confusion_matrix(penguins['male'], y_prediction_3 )\n",
    "confusion_matrix_4 = confusion_matrix(penguins['male'], y_prediction_4 )"
   ]
  },
  {
   "cell_type": "code",
   "execution_count": null,
   "metadata": {},
   "outputs": [],
   "source": [
    "# Now, let's compute the precision and recall scores for each model\n",
    "recall_score_2 = recall_score(penguins['male'], y_prediction_2 )\n",
    "recall_score_3 = recall_score(penguins['male'], y_prediction_3 )\n",
    "recall_score_4 = recall_score(penguins['male'], y_prediction_4 )\n",
    "precision_score_2 = precision_score(penguins['male'], y_prediction_2 )\n",
    "precision_score_3 = precision_score(penguins['male'], y_prediction_3 )\n",
    "precision_score_4 = precision_score(penguins['male'], y_prediction_4 )"
   ]
  },
  {
   "cell_type": "code",
   "execution_count": null,
   "metadata": {},
   "outputs": [],
   "source": [
    "print(formula_2)\n",
    "print(confusion_matrix_2)\n",
    "print('recall', recall_score_2)\n",
    "print('precision', precision_score_2)"
   ]
  },
  {
   "cell_type": "code",
   "execution_count": null,
   "metadata": {},
   "outputs": [],
   "source": [
    "print(formula_3)\n",
    "print(confusion_matrix_3)\n",
    "print('recall', recall_score_3)\n",
    "print('precision', precision_score_3)"
   ]
  },
  {
   "cell_type": "code",
   "execution_count": null,
   "metadata": {},
   "outputs": [],
   "source": [
    "print(formula_4)\n",
    "print(confusion_matrix_4)\n",
    "print('recall', recall_score_4)\n",
    "print('precision', precision_score_4)"
   ]
  },
  {
   "cell_type": "markdown",
   "metadata": {},
   "source": [
    "By definition a confusion matrix `C[i, j]`\n",
    "    is equal to the number of observations known to be in group `i` and\n",
    "    predicted by the model to be in group `j`."
   ]
  },
  {
   "cell_type": "markdown",
   "metadata": {},
   "source": [
    "Note: We are testing these models on data that the model was built on. \n",
    "    So it is likely that these models would perform worse on previously unseen data!"
   ]
  },
  {
   "cell_type": "markdown",
   "metadata": {},
   "source": [
    "References\n",
    "- https://scikit-learn.org/stable/modules/classes.html#module-sklearn.metrics"
   ]
  },
  {
   "cell_type": "code",
   "execution_count": null,
   "metadata": {},
   "outputs": [],
   "source": []
  }
 ],
 "metadata": {
  "kernelspec": {
   "display_name": "Python 3",
   "language": "python",
   "name": "python3"
  },
  "language_info": {
   "codemirror_mode": {
    "name": "ipython",
    "version": 3
   },
   "file_extension": ".py",
   "mimetype": "text/x-python",
   "name": "python",
   "nbconvert_exporter": "python",
   "pygments_lexer": "ipython3",
   "version": "3.9.2"
  }
 },
 "nbformat": 4,
 "nbformat_minor": 4
}
